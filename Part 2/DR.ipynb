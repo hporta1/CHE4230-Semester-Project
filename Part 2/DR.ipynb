{
 "cells": [
  {
   "cell_type": "code",
   "execution_count": null,
   "metadata": {},
   "outputs": [],
   "source": [
    "#Where we will write code for DR and Clustering"
   ]
  }
 ],
 "metadata": {
  "kernelspec": {
   "display_name": "base",
   "language": "python",
   "name": "python3"
  },
  "language_info": {
   "name": "python",
   "version": "3.9.7 (default, Sep 16 2021, 08:50:36) \n[Clang 10.0.0 ]"
  },
  "orig_nbformat": 4,
  "vscode": {
   "interpreter": {
    "hash": "1c6ba9e0ba326dd5cc8ef1e1444e280e2ec11fcebd7cb7e8e7c8e38a2cd48474"
   }
  }
 },
 "nbformat": 4,
 "nbformat_minor": 2
}
