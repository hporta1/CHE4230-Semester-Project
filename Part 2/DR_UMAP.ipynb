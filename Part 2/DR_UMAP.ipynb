{
 "cells": [
  {
   "cell_type": "code",
   "execution_count": 1,
   "metadata": {},
   "outputs": [
    {
     "name": "stdout",
     "output_type": "stream",
     "text": [
      "Requirement already satisfied: umap-learn in /Users/hannahporta/opt/anaconda3/lib/python3.9/site-packages (0.5.3)\n",
      "Requirement already satisfied: numpy>=1.17 in /Users/hannahporta/opt/anaconda3/lib/python3.9/site-packages (from umap-learn) (1.20.3)\n",
      "Requirement already satisfied: pynndescent>=0.5 in /Users/hannahporta/opt/anaconda3/lib/python3.9/site-packages (from umap-learn) (0.5.8)\n",
      "Requirement already satisfied: scipy>=1.0 in /Users/hannahporta/opt/anaconda3/lib/python3.9/site-packages (from umap-learn) (1.7.1)\n",
      "Requirement already satisfied: scikit-learn>=0.22 in /Users/hannahporta/opt/anaconda3/lib/python3.9/site-packages (from umap-learn) (0.24.2)\n",
      "Requirement already satisfied: tqdm in /Users/hannahporta/opt/anaconda3/lib/python3.9/site-packages (from umap-learn) (4.62.3)\n",
      "Requirement already satisfied: numba>=0.49 in /Users/hannahporta/opt/anaconda3/lib/python3.9/site-packages (from umap-learn) (0.54.1)\n",
      "Requirement already satisfied: llvmlite<0.38,>=0.37.0rc1 in /Users/hannahporta/opt/anaconda3/lib/python3.9/site-packages (from numba>=0.49->umap-learn) (0.37.0)\n",
      "Requirement already satisfied: setuptools in /Users/hannahporta/opt/anaconda3/lib/python3.9/site-packages (from numba>=0.49->umap-learn) (58.0.4)\n",
      "Requirement already satisfied: joblib>=0.11 in /Users/hannahporta/opt/anaconda3/lib/python3.9/site-packages (from pynndescent>=0.5->umap-learn) (1.1.0)\n",
      "Requirement already satisfied: threadpoolctl>=2.0.0 in /Users/hannahporta/opt/anaconda3/lib/python3.9/site-packages (from scikit-learn>=0.22->umap-learn) (2.2.0)\n"
     ]
    }
   ],
   "source": [
    "'Dimensionality Reduction with UMAP'\n",
    "\n",
    "import numpy as np\n",
    "from sklearn.datasets import load_digits\n",
    "from sklearn.model_selection import train_test_split\n",
    "from sklearn.preprocessing import StandardScaler\n",
    "import matplotlib.pyplot as plt\n",
    "import seaborn as sns\n",
    "import pandas as pd\n",
    "\n",
    "!pip install umap-learn\n",
    "import umap\n"
   ]
  },
  {
   "cell_type": "code",
   "execution_count": 2,
   "metadata": {},
   "outputs": [],
   "source": [
    "'reading data'\n",
    "\n",
    "mydata = pd.read_excel(r\"./../Data/RawData.xlsx\")"
   ]
  },
  {
   "cell_type": "code",
   "execution_count": 3,
   "metadata": {},
   "outputs": [
    {
     "name": "stdout",
     "output_type": "stream",
     "text": [
      "[[-1.73118283  0.08664536 -0.50970249 ... -0.10066195  0.21032273\n",
      "   0.        ]\n",
      " [-1.72944644  0.08484114 -0.3665744  ... -0.28157158 -0.37472402\n",
      "   0.        ]\n",
      " [-1.72771005  0.08177297  1.01491127 ... -0.25491056 -0.84601891\n",
      "   0.        ]\n",
      " ...\n",
      " [ 1.72771005 -2.27822554  4.42876952 ... -7.21537558  6.11931653\n",
      "   0.        ]\n",
      " [ 1.72944644 -2.28305604  5.94482899 ... -7.48439682  6.1003848\n",
      "   0.        ]\n",
      " [ 1.73118283 -2.27776132  3.94805948 ... -7.66535196  5.44054313\n",
      "   0.        ]]\n"
     ]
    }
   ],
   "source": [
    "'scaling data'\n",
    "\n",
    "myscaled = StandardScaler().fit(mydata)\n",
    "\n",
    "mydata_scaled = myscaled.transform(mydata)\n",
    "\n",
    "mdscaled_array = np.array(mydata_scaled)\n",
    "\n",
    "print(mdscaled_array)\n"
   ]
  },
  {
   "cell_type": "code",
   "execution_count": 4,
   "metadata": {},
   "outputs": [],
   "source": [
    "'doing train test split'\n",
    "\n",
    "x_trainvalidation, x_test = train_test_split(mdscaled_array, test_size=0.2, random_state=4)\n",
    "x_train, x_validation = train_test_split(x_trainvalidation, test_size=0.2, random_state=42)\n"
   ]
  },
  {
   "cell_type": "code",
   "execution_count": 5,
   "metadata": {},
   "outputs": [
    {
     "name": "stderr",
     "output_type": "stream",
     "text": [
      "OMP: Info #271: omp_set_nested routine deprecated, please use omp_set_max_active_levels instead.\n"
     ]
    }
   ],
   "source": [
    "'doing UMAP'\n",
    "\n",
    "myUMAP = umap.UMAP(n_neighbors=5, random_state=42).fit(x_train)"
   ]
  },
  {
   "cell_type": "code",
   "execution_count": 6,
   "metadata": {},
   "outputs": [
    {
     "data": {
      "text/plain": [
       "Text(0.5, 1.0, 'UMAP')"
      ]
     },
     "execution_count": 6,
     "metadata": {},
     "output_type": "execute_result"
    },
    {
     "data": {
      "image/png": "[encoded data removed]",
      "text/plain": [
       "<Figure size 432x288 with 1 Axes>"
      ]
     },
     "metadata": {
      "needs_background": "light"
     },
     "output_type": "display_data"
    }
   ],
   "source": [
    "plt.scatter(myUMAP.embedding_[:, 0], myUMAP.embedding_[:, 1])\n",
    "\n",
    "plt.title('UMAP', fontsize=24)\n",
    "\n"
   ]
  },
  {
   "cell_type": "code",
   "execution_count": 7,
   "metadata": {},
   "outputs": [
    {
     "data": {
      "text/plain": [
       "<matplotlib.collections.PathCollection at 0x7fe8c20fc700>"
      ]
     },
     "execution_count": 7,
     "metadata": {},
     "output_type": "execute_result"
    },
    {
     "data": {
      "image/png": "[encoded data removed]",
      "text/plain": [
       "<Figure size 432x288 with 1 Axes>"
      ]
     },
     "metadata": {
      "needs_background": "light"
     },
     "output_type": "display_data"
    }
   ],
   "source": [
    "from sklearn.cluster import OPTICS, cluster_optics_dbscan\n",
    "import matplotlib.pyplot as plt\n",
    "import matplotlib.gridspec as gridspec\n",
    "from sklearn.cluster import DBSCAN\n",
    "import numpy as np\n",
    "\n",
    "\n",
    "mycluster = OPTICS(min_samples = 90).fit(myUMAP.embedding_)\n",
    "mycluster.labels_\n",
    "\n",
    "plt.scatter(myUMAP.embedding_[:, 0], myUMAP.embedding_[:, 1], c = mycluster.labels_, cmap = \"plasma\")\n",
    "\n"
   ]
  }
 ],
 "metadata": {
  "kernelspec": {
   "display_name": "base",
   "language": "python",
   "name": "python3"
  },
  "language_info": {
   "codemirror_mode": {
    "name": "ipython",
    "version": 3
   },
   "file_extension": ".py",
   "mimetype": "text/x-python",
   "name": "python",
   "nbconvert_exporter": "python",
   "pygments_lexer": "ipython3",
   "version": "3.9.7"
  },
  "orig_nbformat": 4
 },
 "nbformat": 4,
 "nbformat_minor": 2
}
